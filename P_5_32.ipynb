{
  "nbformat": 4,
  "nbformat_minor": 0,
  "metadata": {
    "colab": {
      "provenance": []
    },
    "kernelspec": {
      "name": "python3",
      "display_name": "Python 3"
    },
    "language_info": {
      "name": "python"
    }
  },
  "cells": [
    {
      "cell_type": "code",
      "execution_count": 8,
      "metadata": {
        "colab": {
          "base_uri": "https://localhost:8080/"
        },
        "id": "xljHg7xauD3S",
        "outputId": "e14debcd-e667-4348-e2ca-3fcb0aeed597"
      },
      "outputs": [
        {
          "output_type": "stream",
          "name": "stdout",
          "text": [
            "\n",
            "Enter the first 3D dataset:\n",
            "Enter the number of layers (depth) in the 3D dataset: 2\n",
            "Entering data for layer 1:\n",
            "  Enter the number of rows for layer 1: 2\n",
            "    Enter the row 1 values, space-separated: 1 3\n",
            "    Enter the row 2 values, space-separated: 4 6\n",
            "Entering data for layer 2:\n",
            "  Enter the number of rows for layer 2: 2\n",
            "    Enter the row 1 values, space-separated: 2 5\n",
            "    Enter the row 2 values, space-separated: 7 9\n",
            "\n",
            "Enter the second 3D dataset:\n",
            "Enter the number of layers (depth) in the 3D dataset: 2\n",
            "Entering data for layer 1:\n",
            "  Enter the number of rows for layer 1: 2\n",
            "    Enter the row 1 values, space-separated: 3 5\n",
            "    Enter the row 2 values, space-separated: 6 7\n",
            "Entering data for layer 2:\n",
            "  Enter the number of rows for layer 2: 2\n",
            "    Enter the row 1 values, space-separated: 4 5\n",
            "    Enter the row 2 values, space-separated: 8 9\n",
            "\n",
            "The resulting 3D dataset after addition is:\n",
            "Layer 1:\n",
            "  [4.0, 8.0]\n",
            "  [10.0, 13.0]\n",
            "Layer 2:\n",
            "  [6.0, 10.0]\n",
            "  [15.0, 18.0]\n"
          ]
        }
      ],
      "source": [
        "def input_3d_dataset():\n",
        "    dataset = []\n",
        "\n",
        "    depth = int(input(\"Enter the number of layers (depth) in the 3D dataset: \"))\n",
        "\n",
        "    for i in range(depth):\n",
        "        print(f\"Entering data for layer {i + 1}:\")\n",
        "        layer = []\n",
        "\n",
        "        rows = int(input(f\"  Enter the number of rows for layer {i + 1}: \"))\n",
        "\n",
        "        for j in range(rows):\n",
        "            row = list(map(float, input(f\"    Enter the row {j + 1} values, space-separated: \").split()))\n",
        "            layer.append(row)\n",
        "\n",
        "        dataset.append(layer)\n",
        "\n",
        "    return dataset\n",
        "\n",
        "\n",
        "def add_datasets(dataset1, dataset2):\n",
        "\n",
        "    if len(dataset1) != len(dataset2):\n",
        "        raise ValueError(\"Datasets must have the same depth.\")\n",
        "\n",
        "    result = []\n",
        "\n",
        "    for i in range(len(dataset1)):\n",
        "        if len(dataset1[i]) != len(dataset2[i]):\n",
        "            raise ValueError(f\"Layer {i + 1} has a different number of rows in each dataset.\")\n",
        "\n",
        "        layer_result = []\n",
        "\n",
        "        for j in range(len(dataset1[i])):\n",
        "            if len(dataset1[i][j]) != len(dataset2[i][j]):\n",
        "                raise ValueError(f\"Row {j + 1} in layer {i + 1} has a different number of columns.\")\n",
        "\n",
        "            row_result = [dataset1[i][j][k] + dataset2[i][j][k] for k in range(len(dataset1[i][j]))]\n",
        "            layer_result.append(row_result)\n",
        "\n",
        "        result.append(layer_result)\n",
        "\n",
        "    return result\n",
        "\n",
        "\n",
        "def display_3d_dataset(dataset):\n",
        "    for i, layer in enumerate(dataset):\n",
        "        print(f\"Layer {i + 1}:\")\n",
        "        for row in layer:\n",
        "            print(f\"  {row}\")\n",
        "\n",
        "\n",
        "print(\"\\nEnter the first 3D dataset:\")\n",
        "dataset1 = input_3d_dataset()\n",
        "\n",
        "print(\"\\nEnter the second 3D dataset:\")\n",
        "dataset2 = input_3d_dataset()\n",
        "\n",
        "result = add_datasets(dataset1, dataset2)\n",
        "\n",
        "print(\"\\nThe resulting 3D dataset after addition is:\")\n",
        "display_3d_dataset(result)\n"
      ]
    }
  ]
}