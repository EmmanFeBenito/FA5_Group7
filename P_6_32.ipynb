{
  "nbformat": 4,
  "nbformat_minor": 0,
  "metadata": {
    "colab": {
      "provenance": []
    },
    "kernelspec": {
      "name": "python3",
      "display_name": "Python 3"
    },
    "language_info": {
      "name": "python"
    }
  },
  "cells": [
    {
      "cell_type": "markdown",
      "source": [
        "Give a complete ArrayDeque implementation of the double-ended queue\n",
        "ADT as sketched in Section 6.3.2."
      ],
      "metadata": {
        "id": "MBbIcDhQF597"
      }
    },
    {
      "cell_type": "code",
      "source": [
        "deque = ArrayDeque()\n",
        "\n",
        "deque.add_first(10)\n",
        "deque.add_last(20)\n",
        "deque.add_first(5)\n",
        "deque.add_last(30)\n",
        "\n",
        "first_element = deque.first()\n",
        "last_element = deque.last()\n",
        "\n",
        "deleted_first = deque.delete_first()\n",
        "deleted_last = deque.delete_last()\n",
        "\n",
        "remaining_elements = [deque.delete_first() for _ in range(len(deque))]\n",
        "\n",
        "(first_element, last_element, deleted_first, deleted_last, remaining_elements)"
      ],
      "metadata": {
        "colab": {
          "base_uri": "https://localhost:8080/"
        },
        "id": "Kwitq7dcFwkV",
        "outputId": "76745901-7aa7-449e-b59e-e9aef10c8c3b"
      },
      "execution_count": 3,
      "outputs": [
        {
          "output_type": "execute_result",
          "data": {
            "text/plain": [
              "(5, 30, 5, 30, [10, 20])"
            ]
          },
          "metadata": {},
          "execution_count": 3
        }
      ]
    }
  ]
}